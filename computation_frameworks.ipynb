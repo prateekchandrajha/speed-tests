{
 "cells": [
  {
   "cell_type": "code",
   "execution_count": 1,
   "metadata": {},
   "outputs": [],
   "source": [
    "### Sourya Dey, USC\n",
    "### Compare speeds of different computation frameworks"
   ]
  },
  {
   "cell_type": "code",
   "execution_count": 8,
   "metadata": {},
   "outputs": [],
   "source": [
    "import numpy as np"
   ]
  },
  {
   "cell_type": "markdown",
   "metadata": {},
   "source": [
    "### Array searching -- Numpy is 2 orders of magnitude faster than list"
   ]
  },
  {
   "cell_type": "code",
   "execution_count": 9,
   "metadata": {},
   "outputs": [
    {
     "name": "stdout",
     "output_type": "stream",
     "text": [
      "List time:\n",
      "6.68 s ± 63 ms per loop (mean ± std. dev. of 7 runs, 1 loop each)\n",
      "Numpy time:\n"
     ]
    }
   ],
   "source": [
    "num = 10**4\n",
    "ninter = np.random.permutation(num)\n",
    "inter = list(ninter)\n",
    "\n",
    "print('List time:')\n",
    "%timeit [inter.index(i) for i in range(num)]\n",
    "\n",
    "print('Numpy time:')"
   ]
  },
  {
   "cell_type": "code",
   "execution_count": 10,
   "metadata": {},
   "outputs": [
    {
     "name": "stdout",
     "output_type": "stream",
     "text": [
      "101 ms ± 1.23 ms per loop (mean ± std. dev. of 7 runs, 10 loops each)\n"
     ]
    }
   ],
   "source": [
    "%%timeit x = np.array([])\n",
    "for i in range(num):\n",
    "    np.append(x,np.where(ninter==i)[0])"
   ]
  },
  {
   "cell_type": "markdown",
   "metadata": {},
   "source": [
    "### Different methods of searching in numpy -- All give almost same results"
   ]
  },
  {
   "cell_type": "code",
   "execution_count": 24,
   "metadata": {},
   "outputs": [
    {
     "name": "stdout",
     "output_type": "stream",
     "text": [
      "Using np.nonzero\n",
      "324 ms ± 11 ms per loop (mean ± std. dev. of 7 runs, 1 loop each)\n",
      "Using np.where\n",
      "314 ms ± 7.13 ms per loop (mean ± std. dev. of 7 runs, 1 loop each)\n",
      "Using indexing conditionals\n",
      "383 ms ± 10.2 ms per loop (mean ± std. dev. of 7 runs, 1 loop each)\n"
     ]
    }
   ],
   "source": [
    "num = 10**8\n",
    "x = np.random.randint(0,10,num)\n",
    "\n",
    "print('Using np.nonzero')\n",
    "%timeit x[np.nonzero(x==5)[0]]\n",
    "\n",
    "print('Using np.where')\n",
    "%timeit x[np.where(x==5)[0]]\n",
    "\n",
    "print('Using indexing conditionals')\n",
    "%timeit x[x==5]"
   ]
  },
  {
   "cell_type": "markdown",
   "metadata": {},
   "source": [
    "### Array building one element at a time -- List is 3 orders of magnitude faster than numpy"
   ]
  },
  {
   "cell_type": "code",
   "execution_count": 15,
   "metadata": {},
   "outputs": [
    {
     "name": "stdout",
     "output_type": "stream",
     "text": [
      "List time:\n",
      "351 µs ± 4.81 µs per loop (mean ± std. dev. of 7 runs, 1000 loops each)\n",
      "Numpy time:\n"
     ]
    }
   ],
   "source": [
    "num = 10**4\n",
    "print('List time:')\n",
    "%timeit x = [i for i in range(num)]\n",
    "\n",
    "print('Numpy time:')"
   ]
  },
  {
   "cell_type": "code",
   "execution_count": 16,
   "metadata": {},
   "outputs": [
    {
     "name": "stdout",
     "output_type": "stream",
     "text": [
      "297 ms ± 2.71 ms per loop (mean ± std. dev. of 7 runs, 10 loops each)\n"
     ]
    }
   ],
   "source": [
    "%%timeit x = np.array([])\n",
    "for i in range(num):\n",
    "    x = np.append(x,i)"
   ]
  },
  {
   "cell_type": "markdown",
   "metadata": {},
   "source": [
    "### Different methods of conditionals in numpy -- All give almost same results"
   ]
  },
  {
   "cell_type": "code",
   "execution_count": 25,
   "metadata": {},
   "outputs": [
    {
     "name": "stdout",
     "output_type": "stream",
     "text": [
      "Using &\n",
      "192 ms ± 6.95 ms per loop (mean ± std. dev. of 7 runs, 1 loop each)\n",
      "Using np.logical_and\n",
      "201 ms ± 4.5 ms per loop (mean ± std. dev. of 7 runs, 1 loop each)\n",
      "Using np.all\n",
      "286 ms ± 2.6 ms per loop (mean ± std. dev. of 7 runs, 1 loop each)\n"
     ]
    }
   ],
   "source": [
    "num = 10**8\n",
    "x = np.random.randint(0,10,num) #num random numbers between 0-9\n",
    "\n",
    "print('Using &')\n",
    "%timeit (2<x) & (x<8)\n",
    "\n",
    "print('Using np.logical_and')\n",
    "%timeit np.logical_and(2<x,x<8)\n",
    "\n",
    "print('Using np.all')\n",
    "%timeit np.all([2<x,x<8],axis=0)"
   ]
  },
  {
   "cell_type": "markdown",
   "metadata": {},
   "source": [
    "### How much time do assert statements take? Around 25-30 ns"
   ]
  },
  {
   "cell_type": "code",
   "execution_count": 21,
   "metadata": {},
   "outputs": [
    {
     "name": "stdout",
     "output_type": "stream",
     "text": [
      "27.6 ns ± 0.363 ns per loop (mean ± std. dev. of 7 runs, 10000000 loops each)\n"
     ]
    }
   ],
   "source": [
    "%timeit assert 1==1, 'nope'"
   ]
  },
  {
   "cell_type": "markdown",
   "metadata": {},
   "source": [
    "### Comparing matrix multiplication -- Torch is fastest, then numpy, tensorflow is an order of magnitude slower"
   ]
  },
  {
   "cell_type": "code",
   "execution_count": 28,
   "metadata": {},
   "outputs": [
    {
     "name": "stdout",
     "output_type": "stream",
     "text": [
      "Numpy time\n",
      "16.6 ms ± 625 µs per loop (mean ± std. dev. of 7 runs, 100 loops each)\n",
      "Torch time\n",
      "7.63 ms ± 235 µs per loop (mean ± std. dev. of 7 runs, 100 loops each)\n",
      "Tensorflow time\n",
      "138 ms ± 1.11 ms per loop (mean ± std. dev. of 7 runs, 10 loops each)\n"
     ]
    }
   ],
   "source": [
    "import torch\n",
    "import tensorflow as tf\n",
    "matsize = 1000\n",
    "\n",
    "print('Numpy time')\n",
    "anp = np.random.rand(matsize,matsize)\n",
    "bnp = np.random.rand(matsize,matsize)\n",
    "%timeit np.dot(anp,bnp)\n",
    "\n",
    "print('Torch time')\n",
    "atorch = torch.rand(matsize,matsize)\n",
    "btorch = torch.rand(matsize,matsize)\n",
    "%timeit torch.mm(atorch,btorch)\n",
    "\n",
    "print('Tensorflow time')\n",
    "atf = tf.constant(anp)\n",
    "btf = tf.constant(bnp)\n",
    "with tf.Session() as sess:\n",
    "    %timeit sess.run(tf.matmul(atf,btf))"
   ]
  },
  {
   "cell_type": "code",
   "execution_count": null,
   "metadata": {},
   "outputs": [],
   "source": []
  }
 ],
 "metadata": {
  "kernelspec": {
   "display_name": "Python 3",
   "language": "python",
   "name": "python3"
  },
  "language_info": {
   "codemirror_mode": {
    "name": "ipython",
    "version": 3
   },
   "file_extension": ".py",
   "mimetype": "text/x-python",
   "name": "python",
   "nbconvert_exporter": "python",
   "pygments_lexer": "ipython3",
   "version": "3.6.7"
  }
 },
 "nbformat": 4,
 "nbformat_minor": 2
}
